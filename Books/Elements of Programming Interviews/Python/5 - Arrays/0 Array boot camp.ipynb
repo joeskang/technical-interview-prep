{
 "cells": [
  {
   "cell_type": "markdown",
   "metadata": {},
   "source": [
    "# Array boot camp\n",
    "\n",
    "reorder the entries such that the even entries appear first\n",
    "\n",
    "cannot use O(n) additional space"
   ]
  },
  {
   "cell_type": "code",
   "execution_count": null,
   "metadata": {},
   "outputs": [],
   "source": [
    "def even_odd(array: list) -> None:\n",
    "    left, right = 0, len(array) - 1\n",
    "\n",
    "    while left < right:\n",
    "\n",
    "        # check left is even\n",
    "        if array[left] % 2:\n",
    "            left += 1\n",
    "\n",
    "        # left is odd and right is even\n",
    "        elif not array[right] % 2:\n",
    "            array[left], array[right] = array[right], array[left]\n",
    "            left += 1\n",
    "\n",
    "        # left is odd and right is odd\n",
    "        else:\n",
    "            right -= 1\n",
    "\n",
    "\n",
    "\n"
   ]
  },
  {
   "cell_type": "code",
   "execution_count": null,
   "metadata": {},
   "outputs": [],
   "source": [
    "def test_1():\n",
    "    my_array = [1,2,3,4,6,8]\n",
    "    even_odd(my_array)\n",
    "    print(my_array)\n",
    "\n",
    "    for i in range(3):\n",
    "        assert not my_array[i] % 2, f\"found following odd number {my_array[i]}\"\n",
    "\n",
    "test_1()"
   ]
  },
  {
   "cell_type": "code",
   "execution_count": null,
   "metadata": {},
   "outputs": [],
   "source": [
    "def test_2():\n",
    "    my_array = [4,6,8,1,2,3,10]\n",
    "    even_odd(my_array)\n",
    "    print(my_array)\n",
    "\n",
    "    for i in range(4):\n",
    "        assert not my_array[i] % 2\n",
    "\n",
    "test_2()"
   ]
  },
  {
   "cell_type": "code",
   "execution_count": null,
   "metadata": {},
   "outputs": [],
   "source": [
    "def test_3():\n",
    "    my_array = list(range(100))\n",
    "    even_odd(my_array)\n",
    "\n",
    "    for i in range(50):\n",
    "        assert not my_array[i] % 2\n",
    "\n",
    "test_3()"
   ]
  },
  {
   "cell_type": "code",
   "execution_count": null,
   "metadata": {},
   "outputs": [],
   "source": [
    "def test_4():\n",
    "    my_array = list(range(1000))\n",
    "    even_odd(my_array)\n",
    "\n",
    "    assert my_array[0] % 2\n",
    "\n",
    "test_4()"
   ]
  },
  {
   "cell_type": "code",
   "execution_count": null,
   "metadata": {},
   "outputs": [],
   "source": []
  }
 ],
 "metadata": {
  "kernelspec": {
   "display_name": "Python 3 (ipykernel)",
   "language": "python",
   "name": "python3"
  },
  "language_info": {
   "codemirror_mode": {
    "name": "ipython",
    "version": 2
   },
   "file_extension": ".py",
   "mimetype": "text/x-python",
   "name": "python",
   "nbconvert_exporter": "python",
   "pygments_lexer": "ipython2",
   "version": "2.7.6"
  }
 },
 "nbformat": 4,
 "nbformat_minor": 1
}
