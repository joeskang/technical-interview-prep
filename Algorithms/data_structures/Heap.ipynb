{
 "cells": [
  {
   "cell_type": "markdown",
   "source": [
    "# Heap\n",
    "\n",
    "Is a complete binary tree\n",
    "\n"
   ],
   "metadata": {
    "collapsed": false
   }
  },
  {
   "cell_type": "markdown",
   "source": [
    "# 1. Array Representation of binary tree\n",
    "\n",
    "              A\n",
    "            /   \\\n",
    "            B     C\n",
    "           / \\   / \\\n",
    "          D   E  F  G\n",
    "\n",
    "[ A, B, C, D, E, F, G]\n",
    "\n",
    "if a Node is at index i:\n",
    "* its left child is at 2*i\n",
    "* its right child is at 2*i + 1\n",
    "* its parent is at i // 2\n",
    "\n"
   ],
   "metadata": {
    "collapsed": false
   }
  },
  {
   "cell_type": "markdown",
   "source": [
    "# 2. Full Complete Binary Tree\n",
    "\n",
    "## Full Tree\n",
    "* when all the nodes fill all the empty spaces\n",
    "* 2 ^ (h+1) - 1 nodes, where h is the height of the tree (0-indexed)\n",
    "\n",
    "## Complete Tree\n",
    "* a full binary tree up to h-1\n",
    "* basically, the last level doesn't need to be full\n",
    "* however, must be full from the left to right"
   ],
   "metadata": {
    "collapsed": false
   }
  },
  {
   "cell_type": "markdown",
   "source": [
    "# 3. Insert\n",
    "\n",
    "because heap is a complete binary tree, the newest element must be added to the left most available spot in the last level\n",
    "\n"
   ],
   "metadata": {
    "collapsed": false
   }
  },
  {
   "cell_type": "code",
   "execution_count": null,
   "outputs": [],
   "source": [],
   "metadata": {
    "collapsed": false
   }
  }
 ],
 "metadata": {
  "kernelspec": {
   "display_name": "Python 3",
   "language": "python",
   "name": "python3"
  },
  "language_info": {
   "codemirror_mode": {
    "name": "ipython",
    "version": 2
   },
   "file_extension": ".py",
   "mimetype": "text/x-python",
   "name": "python",
   "nbconvert_exporter": "python",
   "pygments_lexer": "ipython2",
   "version": "2.7.6"
  }
 },
 "nbformat": 4,
 "nbformat_minor": 0
}
