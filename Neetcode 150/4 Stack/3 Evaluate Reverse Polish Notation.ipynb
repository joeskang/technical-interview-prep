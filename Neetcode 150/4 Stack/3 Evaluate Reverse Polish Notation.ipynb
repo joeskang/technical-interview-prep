{
 "cells": [
  {
   "cell_type": "markdown",
   "metadata": {},
   "source": [
    "# Evaluate Reverse Polish Notation\n",
    "\n",
    "> https://leetcode.com/problems/evaluate-reverse-polish-notation/\n",
    "\n",
    "completed 5/7/2023\n",
    "Runtime 91 ms\n",
    "Memory 16.6 MB"
   ]
  },
  {
   "cell_type": "code",
   "execution_count": 2,
   "metadata": {
    "collapsed": false,
    "jupyter": {
     "outputs_hidden": false
    },
    "tags": [],
    "ExecuteTime": {
     "end_time": "2023-05-07T22:08:24.680441Z",
     "start_time": "2023-05-07T22:08:24.677562Z"
    }
   },
   "outputs": [],
   "source": [
    "# using a stack\n",
    "\n",
    "def evalRPN(tokens) -> int:\n",
    "    my_stack = []\n",
    "\n",
    "    for num in tokens:\n",
    "\n",
    "        match num:\n",
    "            case '+':\n",
    "                my_stack.append(my_stack.pop() + my_stack.pop())\n",
    "\n",
    "            case '-':\n",
    "                a, b = my_stack.pop(), my_stack.pop()\n",
    "                my_stack.append(b - a)\n",
    "\n",
    "            case '*':\n",
    "                my_stack.append(my_stack.pop() * my_stack.pop())\n",
    "\n",
    "            case '/':\n",
    "                a, b = my_stack.pop(), my_stack.pop()\n",
    "                my_stack.append(int(b/a))\n",
    "\n",
    "            case other:\n",
    "                my_stack.append(int(num))\n",
    "\n",
    "    return my_stack.pop() if my_stack else 0"
   ]
  },
  {
   "cell_type": "markdown",
   "metadata": {
    "jupyter": {
     "outputs_hidden": false
    }
   },
   "source": [
    "# tests"
   ]
  },
  {
   "cell_type": "code",
   "execution_count": 6,
   "metadata": {
    "tags": []
   },
   "outputs": [],
   "source": [
    "# tests\n",
    "def tester(tup: tuple):\n",
    "    assert evalRPN(tokens=tup[0]) == tup[1]\n",
    "\n",
    "def test1():\n",
    "    run1 = (\n",
    "        ['2', '1', '+', '3', '*'],\n",
    "        9\n",
    "    )\n",
    "    tester(run1)"
   ]
  },
  {
   "cell_type": "code",
   "execution_count": 5,
   "metadata": {
    "tags": []
   },
   "outputs": [
    {
     "ename": "AssertionError",
     "evalue": "",
     "output_type": "error",
     "traceback": [
      "\u001B[0;31m---------------------------------------------------------------------------\u001B[0m",
      "\u001B[0;31mAssertionError\u001B[0m                            Traceback (most recent call last)",
      "Cell \u001B[0;32mIn[5], line 1\u001B[0m\n\u001B[0;32m----> 1\u001B[0m \u001B[43mtest1\u001B[49m\u001B[43m(\u001B[49m\u001B[43m)\u001B[49m\n",
      "Cell \u001B[0;32mIn[3], line 10\u001B[0m, in \u001B[0;36mtest1\u001B[0;34m()\u001B[0m\n\u001B[1;32m      5\u001B[0m \u001B[38;5;28;01mdef\u001B[39;00m \u001B[38;5;21mtest1\u001B[39m():\n\u001B[1;32m      6\u001B[0m     run1 \u001B[38;5;241m=\u001B[39m (\n\u001B[1;32m      7\u001B[0m         [\u001B[38;5;124m'\u001B[39m\u001B[38;5;124m2\u001B[39m\u001B[38;5;124m'\u001B[39m, \u001B[38;5;124m'\u001B[39m\u001B[38;5;124m1\u001B[39m\u001B[38;5;124m'\u001B[39m, \u001B[38;5;124m'\u001B[39m\u001B[38;5;124m+\u001B[39m\u001B[38;5;124m'\u001B[39m, \u001B[38;5;124m'\u001B[39m\u001B[38;5;124m3\u001B[39m\u001B[38;5;124m'\u001B[39m, \u001B[38;5;124m'\u001B[39m\u001B[38;5;124m*\u001B[39m\u001B[38;5;124m'\u001B[39m],\n\u001B[1;32m      8\u001B[0m         \u001B[38;5;241m9\u001B[39m\n\u001B[1;32m      9\u001B[0m     )\n\u001B[0;32m---> 10\u001B[0m     \u001B[43mtester\u001B[49m\u001B[43m(\u001B[49m\u001B[43mrun1\u001B[49m\u001B[43m)\u001B[49m\n",
      "Cell \u001B[0;32mIn[3], line 3\u001B[0m, in \u001B[0;36mtester\u001B[0;34m(tup)\u001B[0m\n\u001B[1;32m      2\u001B[0m \u001B[38;5;28;01mdef\u001B[39;00m \u001B[38;5;21mtester\u001B[39m(tup: \u001B[38;5;28mtuple\u001B[39m):\n\u001B[0;32m----> 3\u001B[0m     \u001B[38;5;28;01massert\u001B[39;00m evalRPN(tokens\u001B[38;5;241m=\u001B[39mtup[\u001B[38;5;241m0\u001B[39m]) \u001B[38;5;241m==\u001B[39m tup[\u001B[38;5;241m1\u001B[39m]\n",
      "\u001B[0;31mAssertionError\u001B[0m: "
     ]
    }
   ],
   "source": [
    "test1()"
   ]
  },
  {
   "cell_type": "code",
   "execution_count": null,
   "metadata": {},
   "outputs": [],
   "source": []
  }
 ],
 "metadata": {
  "kernelspec": {
   "display_name": "myenv",
   "language": "python",
   "name": "myenv"
  },
  "language_info": {
   "codemirror_mode": {
    "name": "ipython",
    "version": 3
   },
   "file_extension": ".py",
   "mimetype": "text/x-python",
   "name": "python",
   "nbconvert_exporter": "python",
   "pygments_lexer": "ipython3",
   "version": "3.11.3"
  }
 },
 "nbformat": 4,
 "nbformat_minor": 4
}
