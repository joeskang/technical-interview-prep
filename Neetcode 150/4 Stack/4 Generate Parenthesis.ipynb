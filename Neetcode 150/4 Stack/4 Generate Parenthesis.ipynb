{
 "cells": [
  {
   "cell_type": "markdown",
   "source": [
    "# Generate Parenthesis\n",
    "> https://leetcode.com/problems/generate-parentheses/\n"
   ],
   "metadata": {
    "collapsed": false
   }
  },
  {
   "cell_type": "code",
   "execution_count": 1,
   "outputs": [
    {
     "ename": "SyntaxError",
     "evalue": "unmatched ')' (3529634323.py, line 8)",
     "output_type": "error",
     "traceback": [
      "\u001B[0;36m  Cell \u001B[0;32mIn[1], line 8\u001B[0;36m\u001B[0m\n\u001B[0;31m    if left_iter == right_iter == n):\u001B[0m\n\u001B[0m                                   ^\u001B[0m\n\u001B[0;31mSyntaxError\u001B[0m\u001B[0;31m:\u001B[0m unmatched ')'\n"
     ]
    }
   ],
   "source": [
    "def generateParenthesis(n: int) -> list:\n",
    "    temp_stack = []\n",
    "    result_stack = []\n",
    "\n",
    "    def inner_function(left_iter, right_iter):\n",
    "\n",
    "        # base case of left_iter == right_iter\n",
    "        if left_iter == right_iter == n):\n",
    "\n",
    "            result_stack.append(''.join(temp_stack))"
   ],
   "metadata": {
    "collapsed": false,
    "ExecuteTime": {
     "end_time": "2023-05-07T23:56:43.436149Z",
     "start_time": "2023-05-07T23:56:43.431613Z"
    }
   }
  },
  {
   "cell_type": "code",
   "execution_count": null,
   "outputs": [],
   "source": [],
   "metadata": {
    "collapsed": false
   }
  }
 ],
 "metadata": {
  "kernelspec": {
   "display_name": "Python 3",
   "language": "python",
   "name": "python3"
  },
  "language_info": {
   "codemirror_mode": {
    "name": "ipython",
    "version": 2
   },
   "file_extension": ".py",
   "mimetype": "text/x-python",
   "name": "python",
   "nbconvert_exporter": "python",
   "pygments_lexer": "ipython2",
   "version": "2.7.6"
  }
 },
 "nbformat": 4,
 "nbformat_minor": 0
}
