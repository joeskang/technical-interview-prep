{
 "cells": [
  {
   "cell_type": "markdown",
   "metadata": {
    "collapsed": true,
    "pycharm": {
     "name": "#%% md\n"
    }
   },
   "source": [
    "# 3Sum\n",
    "https://leetcode.com/problems/3sum/\n",
    "\n",
    "find three elements of an array that sum to target"
   ]
  },
  {
   "cell_type": "code",
   "execution_count": 4,
   "outputs": [],
   "source": [
    "import math\n",
    "def solution(nums:list):\n",
    "    # need to sort the array\n",
    "    nums.sort()\n",
    "\n",
    "    result = []\n",
    "    for i, num in enumerate(nums):\n",
    "        if i > 0 and num == nums[i-1]:\n",
    "            continue\n",
    "\n",
    "        l, r = i + 1, len(nums) - 1\n",
    "        while l < r:\n",
    "            sum_ = sum([num, nums[l], nums[r]])\n",
    "            if sum_ > 0:\n",
    "                r -= 1\n",
    "            elif sum_ < 0:\n",
    "                l += 1\n",
    "            else:\n",
    "                result.append([num, nums[l], nums[r]])\n",
    "                l += 1\n",
    "                while nums[l] == nums[l - 1] and l < r:\n",
    "                    l += 1\n",
    "    return result\n"
   ],
   "metadata": {
    "collapsed": false,
    "pycharm": {
     "name": "#%%def solution(nums, target):\n"
    }
   }
  },
  {
   "cell_type": "code",
   "execution_count": 5,
   "outputs": [
    {
     "name": "stdout",
     "output_type": "stream",
     "text": [
      "[[-9, 1, 8], [-1, 0, 1]]\n"
     ]
    }
   ],
   "source": [
    "test_arr = [-1, 5, 1, 8, -9, 1, 0]\n",
    "print(solution(test_arr))"
   ],
   "metadata": {
    "collapsed": false,
    "pycharm": {
     "name": "#%%\n"
    }
   }
  },
  {
   "cell_type": "code",
   "execution_count": null,
   "outputs": [],
   "source": [],
   "metadata": {
    "collapsed": false,
    "pycharm": {
     "name": "#%%\n"
    }
   }
  }
 ],
 "metadata": {
  "kernelspec": {
   "display_name": "Python 3",
   "language": "python",
   "name": "python3"
  },
  "language_info": {
   "codemirror_mode": {
    "name": "ipython",
    "version": 2
   },
   "file_extension": ".py",
   "mimetype": "text/x-python",
   "name": "python",
   "nbconvert_exporter": "python",
   "pygments_lexer": "ipython2",
   "version": "2.7.6"
  }
 },
 "nbformat": 4,
 "nbformat_minor": 0
}