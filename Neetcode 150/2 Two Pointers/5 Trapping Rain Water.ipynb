{
 "cells": [
  {
   "cell_type": "markdown",
   "metadata": {
    "collapsed": true,
    "pycharm": {
     "name": "#%% md\n"
    }
   },
   "source": [
    "# Trapping Rain Water\n",
    "\n",
    "https://leetcode.com/problems/trapping-rain-water/"
   ]
  },
  {
   "cell_type": "code",
   "execution_count": 31,
   "outputs": [],
   "source": [
    "import math\n",
    "def solution(height: list):\n",
    "    process = []\n",
    "\n",
    "    min_ = 0\n",
    "    for i, h in enumerate(height):\n",
    "        if i > 0:\n",
    "            min_ = max(min_, height[i-1])\n",
    "        process.append(min_)\n",
    "\n",
    "    # reverse\n",
    "    min_ = 0\n",
    "    for i in range(len(height)-1, 0, -1):\n",
    "        if i < len(height) - 1:\n",
    "            min_ = max(min_, height[i + 1])\n",
    "        process[i] = min(process[i], min_)\n",
    "\n",
    "    # find the height\n",
    "    total_water = 0\n",
    "    for i, p in enumerate(process):\n",
    "        if height[i] > p:\n",
    "            continue\n",
    "        total_water += p - height[i]\n",
    "\n",
    "    return total_water"
   ],
   "metadata": {
    "collapsed": false,
    "pycharm": {
     "name": "#%%\n"
    }
   }
  },
  {
   "cell_type": "code",
   "execution_count": 32,
   "outputs": [
    {
     "name": "stdout",
     "output_type": "stream",
     "text": [
      "[0, 0, 1, 1, 2, 2, 2, 2, 2, 2, 1, 0]\n",
      "6\n"
     ]
    }
   ],
   "source": [
    "test_arr = [0, 1, 0, 2, 1, 0, 1, 3, 2, 1, 2, 1]\n",
    "print(solution(test_arr))"
   ],
   "metadata": {
    "collapsed": false,
    "pycharm": {
     "name": "#%%\n"
    }
   }
  },
  {
   "cell_type": "markdown",
   "source": [
    "the solution above is O(n) memory complexity\n",
    "\n",
    "the solution below is O(1) memory complexity"
   ],
   "metadata": {
    "collapsed": false,
    "pycharm": {
     "name": "#%% md\n"
    }
   }
  },
  {
   "cell_type": "code",
   "execution_count": null,
   "outputs": [],
   "source": [
    "\n",
    "def solution(height:list):\n",
    "    max_left = max_right = 0\n",
    "    l, r = 0, len(height) - 1\n",
    "    total_water = 0\n",
    "\n",
    "    while l < r:\n"
   ],
   "metadata": {
    "collapsed": false,
    "pycharm": {
     "name": "#%%\n"
    }
   }
  }
 ],
 "metadata": {
  "kernelspec": {
   "display_name": "Python 3",
   "language": "python",
   "name": "python3"
  },
  "language_info": {
   "codemirror_mode": {
    "name": "ipython",
    "version": 2
   },
   "file_extension": ".py",
   "mimetype": "text/x-python",
   "name": "python",
   "nbconvert_exporter": "python",
   "pygments_lexer": "ipython2",
   "version": "2.7.6"
  }
 },
 "nbformat": 4,
 "nbformat_minor": 0
}